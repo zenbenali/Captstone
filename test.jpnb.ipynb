{
 "cells": [
  {
   "cell_type": "code",
   "execution_count": null,
   "metadata": {},
   "outputs": [],
   "source": [
    "import re\n",
    "\n",
    "# Get the file name from user input\n",
    "file_name = input(\"Enter the file name: \")\n",
    "\n",
    "try:\n",
    "    with open(file_name, 'r') as file:\n",
    "        # Read the file content\n",
    "        content = file.read()\n",
    "\n",
    "        # Use regular expression to find all numbers in the content\n",
    "        numbers = re.findall('[0-9]+', content)\n",
    "\n",
    "        # Convert the numbers from strings to integers and calculate the sum\n",
    "        total_sum = sum(map(int, numbers))\n",
    "\n",
    "        # Print the sum\n",
    "        print(\"The sum of all numbers in the file is:\", total_sum)\n",
    "\n",
    "except FileNotFoundError:\n",
    "    print(\"File not found. Please make sure the file exists and try again.\")\n",
    "except Exception as e:\n",
    "    print(\"An error occurred:\", e)\n"
   ]
  }
 ],
 "metadata": {
  "language_info": {
   "name": "python"
  }
 },
 "nbformat": 4,
 "nbformat_minor": 2
}
